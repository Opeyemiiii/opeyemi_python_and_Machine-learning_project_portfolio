{
 "cells": [
  {
   "cell_type": "code",
   "execution_count": 18,
   "metadata": {},
   "outputs": [],
   "source": [
    "import pandas as pd"
   ]
  },
  {
   "cell_type": "markdown",
   "metadata": {},
   "source": [
    "# Data Accuracy is an important as understanding the technical nuisance that you as a Data analyst Suppose do\n",
    "E.g handling Null values incorrectly\n",
    "\n"
   ]
  },
  {
   "cell_type": "code",
   "execution_count": 2,
   "metadata": {},
   "outputs": [],
   "source": [
    "import zipfile, os\n",
    "from pathlib import Path"
   ]
  },
  {
   "cell_type": "markdown",
   "metadata": {},
   "source": [
    "# Now let set the folder path and tell python where to find the zip file called Birmingham.zip"
   ]
  },
  {
   "cell_type": "markdown",
   "metadata": {},
   "source": [
    "# Step 1 - Data Collection"
   ]
  },
  {
   "cell_type": "code",
   "execution_count": 3,
   "metadata": {},
   "outputs": [],
   "source": [
    "p = Path.home() #Create a variable\n",
    "BirminghamFile = zipfile.ZipFile('Birmingham.zip')\n",
    "BirminghamFile.extractall()\n",
    "BirminghamFile.close()"
   ]
  },
  {
   "cell_type": "markdown",
   "metadata": {},
   "source": [
    "# Step 2 - Exploring the data in general and understanding each column and rows"
   ]
  },
  {
   "cell_type": "markdown",
   "metadata": {},
   "source": [
    "# Step 3 - Looking the buisness at the buisness question asked which quarter has Birmingham the highest social deprivation from jan 2015 : Jan 2019 \n"
   ]
  },
  {
   "cell_type": "markdown",
   "metadata": {},
   "source": [
    "Finding s, we founnd out the social deprivation data set had no date column but within the context of the question top look\n",
    "at the gighest quaters\n",
    "\n",
    "so, solution was  data manipulation to bring in anothe file called birmingham dataset which we unzipped"
   ]
  },
  {
   "cell_type": "markdown",
   "metadata": {},
   "source": [
    "In this context we have two dataset (Birmingham and Social Deprivation)one of the shared column is the 'LSOA code' column.\n",
    "The desire result is to have one table with both 'LSOA and Date'"
   ]
  },
  {
   "cell_type": "markdown",
   "metadata": {},
   "source": [
    "# Applying data engineering tech to bring the data into shape"
   ]
  },
  {
   "cell_type": "markdown",
   "metadata": {},
   "source": [
    "Line 1: Importing the pandas library as pd"
   ]
  },
  {
   "cell_type": "markdown",
   "metadata": {},
   "source": [
    "Line 3 and 4: here we're importing each table as a dataframe using the pandas.read_excel method\n",
    "    \n",
    "    we also specify names of the workshees to make two distinct dataframe, representing the same two dataset."
   ]
  },
  {
   "cell_type": "markdown",
   "metadata": {},
   "source": [
    "You can think dataframes as tables\n",
    "df1 = Birghmigham and social Deprivation\n",
    "\n",
    "df2 = Birghmingham"
   ]
  },
  {
   "cell_type": "code",
   "execution_count": 4,
   "metadata": {},
   "outputs": [
    {
     "data": {
      "text/html": [
       "<div>\n",
       "<style scoped>\n",
       "    .dataframe tbody tr th:only-of-type {\n",
       "        vertical-align: middle;\n",
       "    }\n",
       "\n",
       "    .dataframe tbody tr th {\n",
       "        vertical-align: top;\n",
       "    }\n",
       "\n",
       "    .dataframe thead th {\n",
       "        text-align: right;\n",
       "    }\n",
       "</style>\n",
       "<table border=\"1\" class=\"dataframe\">\n",
       "  <thead>\n",
       "    <tr style=\"text-align: right;\">\n",
       "      <th></th>\n",
       "      <th>LSOA code (2011)</th>\n",
       "      <th>LSOA name (2011)</th>\n",
       "      <th>Local Authority District code (2019)</th>\n",
       "      <th>Local Authority District name (2019)</th>\n",
       "      <th>Index of Multiple Deprivation (IMD) Rank (where 1 is most deprived)</th>\n",
       "      <th>Index of Multiple Deprivation (IMD) Decile (where 1 is most deprived 10% of LSOAs)</th>\n",
       "      <th>Income Rank (where 1 is most deprived)</th>\n",
       "      <th>Income Decile (where 1 is most deprived 10% of LSOAs)</th>\n",
       "      <th>Employment Rank (where 1 is most deprived)</th>\n",
       "      <th>Employment Decile (where 1 is most deprived 10% of LSOAs)</th>\n",
       "      <th>Education, Skills and Training Rank (where 1 is most deprived)</th>\n",
       "      <th>Education, Skills and Training Decile (where 1 is most deprived 10% of LSOAs)</th>\n",
       "      <th>Health Deprivation and Disability Rank (where 1 is most deprived)</th>\n",
       "      <th>Health Deprivation and Disability Decile (where 1 is most deprived 10% of LSOAs)</th>\n",
       "      <th>Crime Rank (where 1 is most deprived)</th>\n",
       "      <th>Crime Decile (where 1 is most deprived 10% of LSOAs)</th>\n",
       "      <th>Barriers to Housing and Services Rank (where 1 is most deprived)</th>\n",
       "      <th>Barriers to Housing and Services Decile (where 1 is most deprived 10% of LSOAs)</th>\n",
       "      <th>Living Environment Rank (where 1 is most deprived)</th>\n",
       "      <th>Living Environment Decile (where 1 is most deprived 10% of LSOAs)</th>\n",
       "    </tr>\n",
       "  </thead>\n",
       "  <tbody>\n",
       "    <tr>\n",
       "      <th>0</th>\n",
       "      <td>E01000001</td>\n",
       "      <td>City of London 001A</td>\n",
       "      <td>E09000001</td>\n",
       "      <td>City of London</td>\n",
       "      <td>29199</td>\n",
       "      <td>9</td>\n",
       "      <td>32831</td>\n",
       "      <td>10</td>\n",
       "      <td>32742</td>\n",
       "      <td>10</td>\n",
       "      <td>32842</td>\n",
       "      <td>10</td>\n",
       "      <td>32113</td>\n",
       "      <td>10</td>\n",
       "      <td>32662</td>\n",
       "      <td>10</td>\n",
       "      <td>7319</td>\n",
       "      <td>3</td>\n",
       "      <td>7789</td>\n",
       "      <td>3</td>\n",
       "    </tr>\n",
       "    <tr>\n",
       "      <th>1</th>\n",
       "      <td>E01000002</td>\n",
       "      <td>City of London 001B</td>\n",
       "      <td>E09000001</td>\n",
       "      <td>City of London</td>\n",
       "      <td>30379</td>\n",
       "      <td>10</td>\n",
       "      <td>29901</td>\n",
       "      <td>10</td>\n",
       "      <td>31190</td>\n",
       "      <td>10</td>\n",
       "      <td>32832</td>\n",
       "      <td>10</td>\n",
       "      <td>29705</td>\n",
       "      <td>10</td>\n",
       "      <td>32789</td>\n",
       "      <td>10</td>\n",
       "      <td>11707</td>\n",
       "      <td>4</td>\n",
       "      <td>13070</td>\n",
       "      <td>4</td>\n",
       "    </tr>\n",
       "    <tr>\n",
       "      <th>2</th>\n",
       "      <td>E01000003</td>\n",
       "      <td>City of London 001C</td>\n",
       "      <td>E09000001</td>\n",
       "      <td>City of London</td>\n",
       "      <td>14915</td>\n",
       "      <td>5</td>\n",
       "      <td>18510</td>\n",
       "      <td>6</td>\n",
       "      <td>15103</td>\n",
       "      <td>5</td>\n",
       "      <td>26386</td>\n",
       "      <td>9</td>\n",
       "      <td>17600</td>\n",
       "      <td>6</td>\n",
       "      <td>29363</td>\n",
       "      <td>9</td>\n",
       "      <td>2157</td>\n",
       "      <td>1</td>\n",
       "      <td>4092</td>\n",
       "      <td>2</td>\n",
       "    </tr>\n",
       "  </tbody>\n",
       "</table>\n",
       "</div>"
      ],
      "text/plain": [
       "  LSOA code (2011)     LSOA name (2011) Local Authority District code (2019)  \\\n",
       "0        E01000001  City of London 001A                            E09000001   \n",
       "1        E01000002  City of London 001B                            E09000001   \n",
       "2        E01000003  City of London 001C                            E09000001   \n",
       "\n",
       "  Local Authority District name (2019)  \\\n",
       "0                       City of London   \n",
       "1                       City of London   \n",
       "2                       City of London   \n",
       "\n",
       "   Index of Multiple Deprivation (IMD) Rank (where 1 is most deprived)  \\\n",
       "0                                              29199                     \n",
       "1                                              30379                     \n",
       "2                                              14915                     \n",
       "\n",
       "   Index of Multiple Deprivation (IMD) Decile (where 1 is most deprived 10% of LSOAs)  \\\n",
       "0                                                  9                                    \n",
       "1                                                 10                                    \n",
       "2                                                  5                                    \n",
       "\n",
       "   Income Rank (where 1 is most deprived)  \\\n",
       "0                                   32831   \n",
       "1                                   29901   \n",
       "2                                   18510   \n",
       "\n",
       "   Income Decile (where 1 is most deprived 10% of LSOAs)  \\\n",
       "0                                                 10       \n",
       "1                                                 10       \n",
       "2                                                  6       \n",
       "\n",
       "   Employment Rank (where 1 is most deprived)  \\\n",
       "0                                       32742   \n",
       "1                                       31190   \n",
       "2                                       15103   \n",
       "\n",
       "   Employment Decile (where 1 is most deprived 10% of LSOAs)  \\\n",
       "0                                                 10           \n",
       "1                                                 10           \n",
       "2                                                  5           \n",
       "\n",
       "   Education, Skills and Training Rank (where 1 is most deprived)  \\\n",
       "0                                              32842                \n",
       "1                                              32832                \n",
       "2                                              26386                \n",
       "\n",
       "   Education, Skills and Training Decile (where 1 is most deprived 10% of LSOAs)  \\\n",
       "0                                                 10                               \n",
       "1                                                 10                               \n",
       "2                                                  9                               \n",
       "\n",
       "   Health Deprivation and Disability Rank (where 1 is most deprived)  \\\n",
       "0                                              32113                   \n",
       "1                                              29705                   \n",
       "2                                              17600                   \n",
       "\n",
       "   Health Deprivation and Disability Decile (where 1 is most deprived 10% of LSOAs)  \\\n",
       "0                                                 10                                  \n",
       "1                                                 10                                  \n",
       "2                                                  6                                  \n",
       "\n",
       "   Crime Rank (where 1 is most deprived)  \\\n",
       "0                                  32662   \n",
       "1                                  32789   \n",
       "2                                  29363   \n",
       "\n",
       "   Crime Decile (where 1 is most deprived 10% of LSOAs)  \\\n",
       "0                                                 10      \n",
       "1                                                 10      \n",
       "2                                                  9      \n",
       "\n",
       "   Barriers to Housing and Services Rank (where 1 is most deprived)  \\\n",
       "0                                               7319                  \n",
       "1                                              11707                  \n",
       "2                                               2157                  \n",
       "\n",
       "   Barriers to Housing and Services Decile (where 1 is most deprived 10% of LSOAs)  \\\n",
       "0                                                  3                                 \n",
       "1                                                  4                                 \n",
       "2                                                  1                                 \n",
       "\n",
       "   Living Environment Rank (where 1 is most deprived)  \\\n",
       "0                                               7789    \n",
       "1                                              13070    \n",
       "2                                               4092    \n",
       "\n",
       "   Living Environment Decile (where 1 is most deprived 10% of LSOAs)  \n",
       "0                                                  3                  \n",
       "1                                                  4                  \n",
       "2                                                  2                  "
      ]
     },
     "execution_count": 4,
     "metadata": {},
     "output_type": "execute_result"
    }
   ],
   "source": [
    "Domains_Of_Deprivation = pd.read_excel('File_2_-_IoD2019_Domains_of_Deprivation.xlsx', sheet_name = 'IoD2019 Domains')\n",
    "Domains_Of_Deprivation.head(3)"
   ]
  },
  {
   "cell_type": "code",
   "execution_count": 5,
   "metadata": {},
   "outputs": [
    {
     "data": {
      "text/plain": [
       "(32844, 20)"
      ]
     },
     "execution_count": 5,
     "metadata": {},
     "output_type": "execute_result"
    }
   ],
   "source": [
    "Domains_Of_Deprivation.shape #Checking the shape of the data"
   ]
  },
  {
   "cell_type": "code",
   "execution_count": 6,
   "metadata": {},
   "outputs": [
    {
     "data": {
      "text/plain": [
       "Index(['LSOA code (2011)', 'LSOA name (2011)',\n",
       "       'Local Authority District code (2019)',\n",
       "       'Local Authority District name (2019)',\n",
       "       'Index of Multiple Deprivation (IMD) Rank (where 1 is most deprived)',\n",
       "       'Index of Multiple Deprivation (IMD) Decile (where 1 is most deprived 10% of LSOAs)',\n",
       "       'Income Rank (where 1 is most deprived)',\n",
       "       'Income Decile (where 1 is most deprived 10% of LSOAs)',\n",
       "       'Employment Rank (where 1 is most deprived)',\n",
       "       'Employment Decile (where 1 is most deprived 10% of LSOAs)',\n",
       "       'Education, Skills and Training Rank (where 1 is most deprived)',\n",
       "       'Education, Skills and Training Decile (where 1 is most deprived 10% of LSOAs)',\n",
       "       'Health Deprivation and Disability Rank (where 1 is most deprived)',\n",
       "       'Health Deprivation and Disability Decile (where 1 is most deprived 10% of LSOAs)',\n",
       "       'Crime Rank (where 1 is most deprived)',\n",
       "       'Crime Decile (where 1 is most deprived 10% of LSOAs)',\n",
       "       'Barriers to Housing and Services Rank (where 1 is most deprived)',\n",
       "       'Barriers to Housing and Services Decile (where 1 is most deprived 10% of LSOAs)',\n",
       "       'Living Environment Rank (where 1 is most deprived)',\n",
       "       'Living Environment Decile (where 1 is most deprived 10% of LSOAs)'],\n",
       "      dtype='object')"
      ]
     },
     "execution_count": 6,
     "metadata": {},
     "output_type": "execute_result"
    }
   ],
   "source": [
    "Domains_Of_Deprivation.columns #Checking the column names"
   ]
  },
  {
   "cell_type": "code",
   "execution_count": 7,
   "metadata": {},
   "outputs": [],
   "source": [
    "import glob "
   ]
  },
  {
   "cell_type": "code",
   "execution_count": 8,
   "metadata": {},
   "outputs": [
    {
     "data": {
      "text/plain": [
       "<generator object <genexpr> at 0x000002205D009B30>"
      ]
     },
     "execution_count": 8,
     "metadata": {},
     "output_type": "execute_result"
    }
   ],
   "source": [
    "path = 'C:/Users/fahd/Documents/A NIIT FOLDER/A)Practise Folder/Python/Python files and docs/Pandas/Birmingham' #Step\n",
    "#The next code: *.csv match only files: that end with file extension.csv\n",
    "\n",
    "fromfolder = glob.glob(os.path.join(path, \"*.csv\"))\n",
    "\n",
    "birminghamfiles = (pd.read_csv(f, sep = ',') for  f in fromfolder)\n",
    "\n",
    "birminghamfiles\n",
    "\n"
   ]
  },
  {
   "cell_type": "markdown",
   "metadata": {},
   "source": [
    "# Time to concat this variable called birmingham"
   ]
  },
  {
   "cell_type": "code",
   "execution_count": 9,
   "metadata": {},
   "outputs": [
    {
     "data": {
      "text/html": [
       "<div>\n",
       "<style scoped>\n",
       "    .dataframe tbody tr th:only-of-type {\n",
       "        vertical-align: middle;\n",
       "    }\n",
       "\n",
       "    .dataframe tbody tr th {\n",
       "        vertical-align: top;\n",
       "    }\n",
       "\n",
       "    .dataframe thead th {\n",
       "        text-align: right;\n",
       "    }\n",
       "</style>\n",
       "<table border=\"1\" class=\"dataframe\">\n",
       "  <thead>\n",
       "    <tr style=\"text-align: right;\">\n",
       "      <th></th>\n",
       "      <th>Crime ID</th>\n",
       "      <th>Month</th>\n",
       "      <th>Reported by</th>\n",
       "      <th>Falls within</th>\n",
       "      <th>Longitude</th>\n",
       "      <th>Latitude</th>\n",
       "      <th>Location</th>\n",
       "      <th>LSOA code</th>\n",
       "      <th>LSOA name</th>\n",
       "      <th>Crime type</th>\n",
       "      <th>Last outcome category</th>\n",
       "      <th>Context</th>\n",
       "    </tr>\n",
       "  </thead>\n",
       "  <tbody>\n",
       "    <tr>\n",
       "      <th>0</th>\n",
       "      <td>NaN</td>\n",
       "      <td>2015-01</td>\n",
       "      <td>British Transport Police</td>\n",
       "      <td>British Transport Police</td>\n",
       "      <td>-0.271604</td>\n",
       "      <td>50.834400</td>\n",
       "      <td>On or near Shoreham-By-Sea</td>\n",
       "      <td>E01031365</td>\n",
       "      <td>Adur 002D</td>\n",
       "      <td>Other theft</td>\n",
       "      <td>NaN</td>\n",
       "      <td>NaN</td>\n",
       "    </tr>\n",
       "    <tr>\n",
       "      <th>1</th>\n",
       "      <td>NaN</td>\n",
       "      <td>2015-01</td>\n",
       "      <td>British Transport Police</td>\n",
       "      <td>British Transport Police</td>\n",
       "      <td>-0.271604</td>\n",
       "      <td>50.834400</td>\n",
       "      <td>On or near Shoreham-By-Sea</td>\n",
       "      <td>E01031365</td>\n",
       "      <td>Adur 002D</td>\n",
       "      <td>Other theft</td>\n",
       "      <td>NaN</td>\n",
       "      <td>NaN</td>\n",
       "    </tr>\n",
       "    <tr>\n",
       "      <th>2</th>\n",
       "      <td>NaN</td>\n",
       "      <td>2015-01</td>\n",
       "      <td>British Transport Police</td>\n",
       "      <td>British Transport Police</td>\n",
       "      <td>-0.271604</td>\n",
       "      <td>50.834400</td>\n",
       "      <td>On or near Shoreham-By-Sea</td>\n",
       "      <td>E01031365</td>\n",
       "      <td>Adur 002D</td>\n",
       "      <td>Theft from the person</td>\n",
       "      <td>NaN</td>\n",
       "      <td>NaN</td>\n",
       "    </tr>\n",
       "    <tr>\n",
       "      <th>3</th>\n",
       "      <td>NaN</td>\n",
       "      <td>2015-01</td>\n",
       "      <td>British Transport Police</td>\n",
       "      <td>British Transport Police</td>\n",
       "      <td>-0.271604</td>\n",
       "      <td>50.834400</td>\n",
       "      <td>On or near Shoreham-By-Sea</td>\n",
       "      <td>E01031365</td>\n",
       "      <td>Adur 002D</td>\n",
       "      <td>Vehicle crime</td>\n",
       "      <td>NaN</td>\n",
       "      <td>NaN</td>\n",
       "    </tr>\n",
       "    <tr>\n",
       "      <th>4</th>\n",
       "      <td>NaN</td>\n",
       "      <td>2015-01</td>\n",
       "      <td>British Transport Police</td>\n",
       "      <td>British Transport Police</td>\n",
       "      <td>-0.323543</td>\n",
       "      <td>50.827200</td>\n",
       "      <td>On or near Lancing</td>\n",
       "      <td>E01031342</td>\n",
       "      <td>Adur 008B</td>\n",
       "      <td>Public order</td>\n",
       "      <td>NaN</td>\n",
       "      <td>NaN</td>\n",
       "    </tr>\n",
       "    <tr>\n",
       "      <th>...</th>\n",
       "      <td>...</td>\n",
       "      <td>...</td>\n",
       "      <td>...</td>\n",
       "      <td>...</td>\n",
       "      <td>...</td>\n",
       "      <td>...</td>\n",
       "      <td>...</td>\n",
       "      <td>...</td>\n",
       "      <td>...</td>\n",
       "      <td>...</td>\n",
       "      <td>...</td>\n",
       "      <td>...</td>\n",
       "    </tr>\n",
       "    <tr>\n",
       "      <th>1601656</th>\n",
       "      <td>b90c8dd50029069a330a401a59805ddb6042b94be8d83f...</td>\n",
       "      <td>2019-12</td>\n",
       "      <td>West Midlands Police</td>\n",
       "      <td>West Midlands Police</td>\n",
       "      <td>-2.120034</td>\n",
       "      <td>52.577954</td>\n",
       "      <td>On or near All Saints Road</td>\n",
       "      <td>E01010530</td>\n",
       "      <td>Wolverhampton 035H</td>\n",
       "      <td>Violence and sexual offences</td>\n",
       "      <td>Unable to prosecute suspect</td>\n",
       "      <td>NaN</td>\n",
       "    </tr>\n",
       "    <tr>\n",
       "      <th>1601657</th>\n",
       "      <td>9417957f2a0091077593cd99efd6a53859967bceef5862...</td>\n",
       "      <td>2019-12</td>\n",
       "      <td>West Midlands Police</td>\n",
       "      <td>West Midlands Police</td>\n",
       "      <td>-2.120714</td>\n",
       "      <td>52.583904</td>\n",
       "      <td>On or near Pedestrian Subway</td>\n",
       "      <td>E01010530</td>\n",
       "      <td>Wolverhampton 035H</td>\n",
       "      <td>Violence and sexual offences</td>\n",
       "      <td>Awaiting court outcome</td>\n",
       "      <td>NaN</td>\n",
       "    </tr>\n",
       "    <tr>\n",
       "      <th>1601658</th>\n",
       "      <td>78b4f4a19d3adda3a071c32de5143fc0fa2bcdb3f71ec6...</td>\n",
       "      <td>2019-12</td>\n",
       "      <td>West Midlands Police</td>\n",
       "      <td>West Midlands Police</td>\n",
       "      <td>-2.120286</td>\n",
       "      <td>52.578475</td>\n",
       "      <td>On or near Maxwell Road</td>\n",
       "      <td>E01010530</td>\n",
       "      <td>Wolverhampton 035H</td>\n",
       "      <td>Violence and sexual offences</td>\n",
       "      <td>Investigation complete; no suspect identified</td>\n",
       "      <td>NaN</td>\n",
       "    </tr>\n",
       "    <tr>\n",
       "      <th>1601659</th>\n",
       "      <td>54b927d76c63097c6edfa0564015aeda61e366374b16f6...</td>\n",
       "      <td>2019-12</td>\n",
       "      <td>West Midlands Police</td>\n",
       "      <td>West Midlands Police</td>\n",
       "      <td>-2.116401</td>\n",
       "      <td>52.582677</td>\n",
       "      <td>On or near York Street</td>\n",
       "      <td>E01010530</td>\n",
       "      <td>Wolverhampton 035H</td>\n",
       "      <td>Violence and sexual offences</td>\n",
       "      <td>Unable to prosecute suspect</td>\n",
       "      <td>NaN</td>\n",
       "    </tr>\n",
       "    <tr>\n",
       "      <th>1601660</th>\n",
       "      <td>d015ded62a99d9236e1a42fb4b49e055d9d6086f8bdf15...</td>\n",
       "      <td>2019-12</td>\n",
       "      <td>West Midlands Police</td>\n",
       "      <td>West Midlands Police</td>\n",
       "      <td>-7.547692</td>\n",
       "      <td>54.517074</td>\n",
       "      <td>On or near</td>\n",
       "      <td>NaN</td>\n",
       "      <td>NaN</td>\n",
       "      <td>Criminal damage and arson</td>\n",
       "      <td>Investigation complete; no suspect identified</td>\n",
       "      <td>NaN</td>\n",
       "    </tr>\n",
       "  </tbody>\n",
       "</table>\n",
       "<p>1601661 rows × 12 columns</p>\n",
       "</div>"
      ],
      "text/plain": [
       "                                                  Crime ID    Month  \\\n",
       "0                                                      NaN  2015-01   \n",
       "1                                                      NaN  2015-01   \n",
       "2                                                      NaN  2015-01   \n",
       "3                                                      NaN  2015-01   \n",
       "4                                                      NaN  2015-01   \n",
       "...                                                    ...      ...   \n",
       "1601656  b90c8dd50029069a330a401a59805ddb6042b94be8d83f...  2019-12   \n",
       "1601657  9417957f2a0091077593cd99efd6a53859967bceef5862...  2019-12   \n",
       "1601658  78b4f4a19d3adda3a071c32de5143fc0fa2bcdb3f71ec6...  2019-12   \n",
       "1601659  54b927d76c63097c6edfa0564015aeda61e366374b16f6...  2019-12   \n",
       "1601660  d015ded62a99d9236e1a42fb4b49e055d9d6086f8bdf15...  2019-12   \n",
       "\n",
       "                      Reported by              Falls within  Longitude  \\\n",
       "0        British Transport Police  British Transport Police  -0.271604   \n",
       "1        British Transport Police  British Transport Police  -0.271604   \n",
       "2        British Transport Police  British Transport Police  -0.271604   \n",
       "3        British Transport Police  British Transport Police  -0.271604   \n",
       "4        British Transport Police  British Transport Police  -0.323543   \n",
       "...                           ...                       ...        ...   \n",
       "1601656      West Midlands Police      West Midlands Police  -2.120034   \n",
       "1601657      West Midlands Police      West Midlands Police  -2.120714   \n",
       "1601658      West Midlands Police      West Midlands Police  -2.120286   \n",
       "1601659      West Midlands Police      West Midlands Police  -2.116401   \n",
       "1601660      West Midlands Police      West Midlands Police  -7.547692   \n",
       "\n",
       "          Latitude                      Location  LSOA code  \\\n",
       "0        50.834400    On or near Shoreham-By-Sea  E01031365   \n",
       "1        50.834400    On or near Shoreham-By-Sea  E01031365   \n",
       "2        50.834400    On or near Shoreham-By-Sea  E01031365   \n",
       "3        50.834400    On or near Shoreham-By-Sea  E01031365   \n",
       "4        50.827200            On or near Lancing  E01031342   \n",
       "...            ...                           ...        ...   \n",
       "1601656  52.577954    On or near All Saints Road  E01010530   \n",
       "1601657  52.583904  On or near Pedestrian Subway  E01010530   \n",
       "1601658  52.578475       On or near Maxwell Road  E01010530   \n",
       "1601659  52.582677        On or near York Street  E01010530   \n",
       "1601660  54.517074                   On or near         NaN   \n",
       "\n",
       "                  LSOA name                    Crime type  \\\n",
       "0                 Adur 002D                   Other theft   \n",
       "1                 Adur 002D                   Other theft   \n",
       "2                 Adur 002D         Theft from the person   \n",
       "3                 Adur 002D                 Vehicle crime   \n",
       "4                 Adur 008B                  Public order   \n",
       "...                     ...                           ...   \n",
       "1601656  Wolverhampton 035H  Violence and sexual offences   \n",
       "1601657  Wolverhampton 035H  Violence and sexual offences   \n",
       "1601658  Wolverhampton 035H  Violence and sexual offences   \n",
       "1601659  Wolverhampton 035H  Violence and sexual offences   \n",
       "1601660                 NaN     Criminal damage and arson   \n",
       "\n",
       "                                 Last outcome category  Context  \n",
       "0                                                  NaN      NaN  \n",
       "1                                                  NaN      NaN  \n",
       "2                                                  NaN      NaN  \n",
       "3                                                  NaN      NaN  \n",
       "4                                                  NaN      NaN  \n",
       "...                                                ...      ...  \n",
       "1601656                    Unable to prosecute suspect      NaN  \n",
       "1601657                         Awaiting court outcome      NaN  \n",
       "1601658  Investigation complete; no suspect identified      NaN  \n",
       "1601659                    Unable to prosecute suspect      NaN  \n",
       "1601660  Investigation complete; no suspect identified      NaN  \n",
       "\n",
       "[1601661 rows x 12 columns]"
      ]
     },
     "execution_count": 9,
     "metadata": {},
     "output_type": "execute_result"
    }
   ],
   "source": [
    "df_merged = pd.concat(birminghamfiles, ignore_index = True)\n",
    "df_merged"
   ]
  },
  {
   "cell_type": "code",
   "execution_count": 10,
   "metadata": {},
   "outputs": [
    {
     "data": {
      "text/html": [
       "<div>\n",
       "<style scoped>\n",
       "    .dataframe tbody tr th:only-of-type {\n",
       "        vertical-align: middle;\n",
       "    }\n",
       "\n",
       "    .dataframe tbody tr th {\n",
       "        vertical-align: top;\n",
       "    }\n",
       "\n",
       "    .dataframe thead th {\n",
       "        text-align: right;\n",
       "    }\n",
       "</style>\n",
       "<table border=\"1\" class=\"dataframe\">\n",
       "  <thead>\n",
       "    <tr style=\"text-align: right;\">\n",
       "      <th></th>\n",
       "      <th>Crime ID</th>\n",
       "      <th>Month</th>\n",
       "      <th>Reported by</th>\n",
       "      <th>Falls within</th>\n",
       "      <th>Longitude</th>\n",
       "      <th>Latitude</th>\n",
       "      <th>Location</th>\n",
       "      <th>LSOA code</th>\n",
       "      <th>LSOA name</th>\n",
       "      <th>Crime type</th>\n",
       "      <th>Last outcome category</th>\n",
       "      <th>Context</th>\n",
       "    </tr>\n",
       "  </thead>\n",
       "  <tbody>\n",
       "    <tr>\n",
       "      <th>0</th>\n",
       "      <td>NaN</td>\n",
       "      <td>2015-01</td>\n",
       "      <td>British Transport Police</td>\n",
       "      <td>British Transport Police</td>\n",
       "      <td>-0.271604</td>\n",
       "      <td>50.8344</td>\n",
       "      <td>On or near Shoreham-By-Sea</td>\n",
       "      <td>E01031365</td>\n",
       "      <td>Adur 002D</td>\n",
       "      <td>Other theft</td>\n",
       "      <td>NaN</td>\n",
       "      <td>NaN</td>\n",
       "    </tr>\n",
       "    <tr>\n",
       "      <th>1</th>\n",
       "      <td>NaN</td>\n",
       "      <td>2015-01</td>\n",
       "      <td>British Transport Police</td>\n",
       "      <td>British Transport Police</td>\n",
       "      <td>-0.271604</td>\n",
       "      <td>50.8344</td>\n",
       "      <td>On or near Shoreham-By-Sea</td>\n",
       "      <td>E01031365</td>\n",
       "      <td>Adur 002D</td>\n",
       "      <td>Other theft</td>\n",
       "      <td>NaN</td>\n",
       "      <td>NaN</td>\n",
       "    </tr>\n",
       "    <tr>\n",
       "      <th>2</th>\n",
       "      <td>NaN</td>\n",
       "      <td>2015-01</td>\n",
       "      <td>British Transport Police</td>\n",
       "      <td>British Transport Police</td>\n",
       "      <td>-0.271604</td>\n",
       "      <td>50.8344</td>\n",
       "      <td>On or near Shoreham-By-Sea</td>\n",
       "      <td>E01031365</td>\n",
       "      <td>Adur 002D</td>\n",
       "      <td>Theft from the person</td>\n",
       "      <td>NaN</td>\n",
       "      <td>NaN</td>\n",
       "    </tr>\n",
       "    <tr>\n",
       "      <th>3</th>\n",
       "      <td>NaN</td>\n",
       "      <td>2015-01</td>\n",
       "      <td>British Transport Police</td>\n",
       "      <td>British Transport Police</td>\n",
       "      <td>-0.271604</td>\n",
       "      <td>50.8344</td>\n",
       "      <td>On or near Shoreham-By-Sea</td>\n",
       "      <td>E01031365</td>\n",
       "      <td>Adur 002D</td>\n",
       "      <td>Vehicle crime</td>\n",
       "      <td>NaN</td>\n",
       "      <td>NaN</td>\n",
       "    </tr>\n",
       "    <tr>\n",
       "      <th>4</th>\n",
       "      <td>NaN</td>\n",
       "      <td>2015-01</td>\n",
       "      <td>British Transport Police</td>\n",
       "      <td>British Transport Police</td>\n",
       "      <td>-0.323543</td>\n",
       "      <td>50.8272</td>\n",
       "      <td>On or near Lancing</td>\n",
       "      <td>E01031342</td>\n",
       "      <td>Adur 008B</td>\n",
       "      <td>Public order</td>\n",
       "      <td>NaN</td>\n",
       "      <td>NaN</td>\n",
       "    </tr>\n",
       "    <tr>\n",
       "      <th>5</th>\n",
       "      <td>NaN</td>\n",
       "      <td>2015-01</td>\n",
       "      <td>British Transport Police</td>\n",
       "      <td>British Transport Police</td>\n",
       "      <td>-0.323543</td>\n",
       "      <td>50.8272</td>\n",
       "      <td>On or near Lancing</td>\n",
       "      <td>E01031342</td>\n",
       "      <td>Adur 008B</td>\n",
       "      <td>Violence and sexual offences</td>\n",
       "      <td>NaN</td>\n",
       "      <td>NaN</td>\n",
       "    </tr>\n",
       "    <tr>\n",
       "      <th>6</th>\n",
       "      <td>NaN</td>\n",
       "      <td>2015-01</td>\n",
       "      <td>British Transport Police</td>\n",
       "      <td>British Transport Police</td>\n",
       "      <td>-3.494100</td>\n",
       "      <td>54.7117</td>\n",
       "      <td>On or near Maryport</td>\n",
       "      <td>E01019114</td>\n",
       "      <td>Allerdale 004D</td>\n",
       "      <td>Anti-social behaviour</td>\n",
       "      <td>NaN</td>\n",
       "      <td>NaN</td>\n",
       "    </tr>\n",
       "    <tr>\n",
       "      <th>7</th>\n",
       "      <td>NaN</td>\n",
       "      <td>2015-01</td>\n",
       "      <td>British Transport Police</td>\n",
       "      <td>British Transport Police</td>\n",
       "      <td>-3.494100</td>\n",
       "      <td>54.7117</td>\n",
       "      <td>On or near Maryport</td>\n",
       "      <td>E01019114</td>\n",
       "      <td>Allerdale 004D</td>\n",
       "      <td>Violence and sexual offences</td>\n",
       "      <td>NaN</td>\n",
       "      <td>NaN</td>\n",
       "    </tr>\n",
       "    <tr>\n",
       "      <th>8</th>\n",
       "      <td>NaN</td>\n",
       "      <td>2015-01</td>\n",
       "      <td>British Transport Police</td>\n",
       "      <td>British Transport Police</td>\n",
       "      <td>-0.640432</td>\n",
       "      <td>50.8308</td>\n",
       "      <td>On or near Barnham</td>\n",
       "      <td>E01031393</td>\n",
       "      <td>Arun 003A</td>\n",
       "      <td>Anti-social behaviour</td>\n",
       "      <td>NaN</td>\n",
       "      <td>NaN</td>\n",
       "    </tr>\n",
       "    <tr>\n",
       "      <th>9</th>\n",
       "      <td>NaN</td>\n",
       "      <td>2015-01</td>\n",
       "      <td>British Transport Police</td>\n",
       "      <td>British Transport Police</td>\n",
       "      <td>-0.640432</td>\n",
       "      <td>50.8308</td>\n",
       "      <td>On or near Barnham</td>\n",
       "      <td>E01031393</td>\n",
       "      <td>Arun 003A</td>\n",
       "      <td>Bicycle theft</td>\n",
       "      <td>NaN</td>\n",
       "      <td>NaN</td>\n",
       "    </tr>\n",
       "  </tbody>\n",
       "</table>\n",
       "</div>"
      ],
      "text/plain": [
       "  Crime ID    Month               Reported by              Falls within  \\\n",
       "0      NaN  2015-01  British Transport Police  British Transport Police   \n",
       "1      NaN  2015-01  British Transport Police  British Transport Police   \n",
       "2      NaN  2015-01  British Transport Police  British Transport Police   \n",
       "3      NaN  2015-01  British Transport Police  British Transport Police   \n",
       "4      NaN  2015-01  British Transport Police  British Transport Police   \n",
       "5      NaN  2015-01  British Transport Police  British Transport Police   \n",
       "6      NaN  2015-01  British Transport Police  British Transport Police   \n",
       "7      NaN  2015-01  British Transport Police  British Transport Police   \n",
       "8      NaN  2015-01  British Transport Police  British Transport Police   \n",
       "9      NaN  2015-01  British Transport Police  British Transport Police   \n",
       "\n",
       "   Longitude  Latitude                    Location  LSOA code       LSOA name  \\\n",
       "0  -0.271604   50.8344  On or near Shoreham-By-Sea  E01031365       Adur 002D   \n",
       "1  -0.271604   50.8344  On or near Shoreham-By-Sea  E01031365       Adur 002D   \n",
       "2  -0.271604   50.8344  On or near Shoreham-By-Sea  E01031365       Adur 002D   \n",
       "3  -0.271604   50.8344  On or near Shoreham-By-Sea  E01031365       Adur 002D   \n",
       "4  -0.323543   50.8272          On or near Lancing  E01031342       Adur 008B   \n",
       "5  -0.323543   50.8272          On or near Lancing  E01031342       Adur 008B   \n",
       "6  -3.494100   54.7117         On or near Maryport  E01019114  Allerdale 004D   \n",
       "7  -3.494100   54.7117         On or near Maryport  E01019114  Allerdale 004D   \n",
       "8  -0.640432   50.8308          On or near Barnham  E01031393       Arun 003A   \n",
       "9  -0.640432   50.8308          On or near Barnham  E01031393       Arun 003A   \n",
       "\n",
       "                     Crime type Last outcome category  Context  \n",
       "0                   Other theft                   NaN      NaN  \n",
       "1                   Other theft                   NaN      NaN  \n",
       "2         Theft from the person                   NaN      NaN  \n",
       "3                 Vehicle crime                   NaN      NaN  \n",
       "4                  Public order                   NaN      NaN  \n",
       "5  Violence and sexual offences                   NaN      NaN  \n",
       "6         Anti-social behaviour                   NaN      NaN  \n",
       "7  Violence and sexual offences                   NaN      NaN  \n",
       "8         Anti-social behaviour                   NaN      NaN  \n",
       "9                 Bicycle theft                   NaN      NaN  "
      ]
     },
     "execution_count": 10,
     "metadata": {},
     "output_type": "execute_result"
    }
   ],
   "source": [
    "df_merged.head(10)"
   ]
  },
  {
   "cell_type": "code",
   "execution_count": 11,
   "metadata": {},
   "outputs": [
    {
     "name": "stdout",
     "output_type": "stream",
     "text": [
      "['2015-01' '2015-02' '2015-03' '2015-04' '2015-05' '2015-06' '2015-07'\n",
      " '2015-08' '2015-09' '2015-10' '2015-11' '2015-12' '2016-01' '2016-02'\n",
      " '2016-03' '2016-04' '2016-05' '2016-06' '2016-07' '2016-08' '2016-09'\n",
      " '2016-10' '2016-11' '2016-12' '2017-01' '2017-02' '2017-03' '2017-04'\n",
      " '2017-05' '2017-06' '2017-07' '2017-08' '2017-09' '2017-10' '2017-11'\n",
      " '2017-12' '2018-01' '2018-02' '2018-03' '2018-04' '2018-05' '2018-06'\n",
      " '2018-07' '2018-08' '2018-09' '2018-10' '2018-11' '2018-12' '2019-01'\n",
      " '2019-02' '2019-03' '2019-04' '2019-05' '2019-06' '2019-07' '2019-08'\n",
      " '2019-09' '2019-10' '2019-11' '2019-12']\n",
      "60\n"
     ]
    }
   ],
   "source": [
    "print(df_merged['Month'].unique())\n",
    "print(df_merged['Month'].nunique())"
   ]
  },
  {
   "cell_type": "code",
   "execution_count": 12,
   "metadata": {},
   "outputs": [
    {
     "data": {
      "text/plain": [
       "Crime ID                  481400\n",
       "Month                          0\n",
       "Reported by                    0\n",
       "Falls within                   0\n",
       "Longitude                      0\n",
       "Latitude                       0\n",
       "Location                       0\n",
       "LSOA code                   7182\n",
       "LSOA name                   7182\n",
       "Crime type                     0\n",
       "Last outcome category     481400\n",
       "Context                  1601661\n",
       "dtype: int64"
      ]
     },
     "execution_count": 12,
     "metadata": {},
     "output_type": "execute_result"
    }
   ],
   "source": [
    "df_merged.isnull().sum() #Checking for the missing values"
   ]
  },
  {
   "cell_type": "markdown",
   "metadata": {},
   "source": [
    "# Copy the df_merged  to the new name all_birmingham"
   ]
  },
  {
   "cell_type": "code",
   "execution_count": 13,
   "metadata": {},
   "outputs": [],
   "source": [
    "all_birmingham = df_merged\n",
    "#Transfer all variable name to a new simple name all_birmingham"
   ]
  },
  {
   "cell_type": "markdown",
   "metadata": {},
   "source": [
    "# Exporting to csv"
   ]
  },
  {
   "cell_type": "code",
   "execution_count": 14,
   "metadata": {},
   "outputs": [],
   "source": [
    "df_merged.to_csv(\"all_birmingham.csv\", index_label = False, index = False)"
   ]
  },
  {
   "cell_type": "code",
   "execution_count": 19,
   "metadata": {},
   "outputs": [
    {
     "data": {
      "text/html": [
       "<div>\n",
       "<style scoped>\n",
       "    .dataframe tbody tr th:only-of-type {\n",
       "        vertical-align: middle;\n",
       "    }\n",
       "\n",
       "    .dataframe tbody tr th {\n",
       "        vertical-align: top;\n",
       "    }\n",
       "\n",
       "    .dataframe thead th {\n",
       "        text-align: right;\n",
       "    }\n",
       "</style>\n",
       "<table border=\"1\" class=\"dataframe\">\n",
       "  <thead>\n",
       "    <tr style=\"text-align: right;\">\n",
       "      <th></th>\n",
       "      <th>Crime ID</th>\n",
       "      <th>Month</th>\n",
       "      <th>Reported by</th>\n",
       "      <th>Falls within</th>\n",
       "      <th>Longitude</th>\n",
       "      <th>Latitude</th>\n",
       "      <th>Location</th>\n",
       "      <th>LSOA code</th>\n",
       "      <th>LSOA name</th>\n",
       "      <th>Crime type</th>\n",
       "      <th>Last outcome category</th>\n",
       "      <th>Context</th>\n",
       "    </tr>\n",
       "  </thead>\n",
       "  <tbody>\n",
       "    <tr>\n",
       "      <th>0</th>\n",
       "      <td>NaN</td>\n",
       "      <td>2015-01</td>\n",
       "      <td>British Transport Police</td>\n",
       "      <td>British Transport Police</td>\n",
       "      <td>-0.271604</td>\n",
       "      <td>50.8344</td>\n",
       "      <td>On or near Shoreham-By-Sea</td>\n",
       "      <td>E01031365</td>\n",
       "      <td>Adur 002D</td>\n",
       "      <td>Other theft</td>\n",
       "      <td>NaN</td>\n",
       "      <td>NaN</td>\n",
       "    </tr>\n",
       "    <tr>\n",
       "      <th>1</th>\n",
       "      <td>NaN</td>\n",
       "      <td>2015-01</td>\n",
       "      <td>British Transport Police</td>\n",
       "      <td>British Transport Police</td>\n",
       "      <td>-0.271604</td>\n",
       "      <td>50.8344</td>\n",
       "      <td>On or near Shoreham-By-Sea</td>\n",
       "      <td>E01031365</td>\n",
       "      <td>Adur 002D</td>\n",
       "      <td>Other theft</td>\n",
       "      <td>NaN</td>\n",
       "      <td>NaN</td>\n",
       "    </tr>\n",
       "    <tr>\n",
       "      <th>2</th>\n",
       "      <td>NaN</td>\n",
       "      <td>2015-01</td>\n",
       "      <td>British Transport Police</td>\n",
       "      <td>British Transport Police</td>\n",
       "      <td>-0.271604</td>\n",
       "      <td>50.8344</td>\n",
       "      <td>On or near Shoreham-By-Sea</td>\n",
       "      <td>E01031365</td>\n",
       "      <td>Adur 002D</td>\n",
       "      <td>Theft from the person</td>\n",
       "      <td>NaN</td>\n",
       "      <td>NaN</td>\n",
       "    </tr>\n",
       "  </tbody>\n",
       "</table>\n",
       "</div>"
      ],
      "text/plain": [
       "  Crime ID    Month               Reported by              Falls within  \\\n",
       "0      NaN  2015-01  British Transport Police  British Transport Police   \n",
       "1      NaN  2015-01  British Transport Police  British Transport Police   \n",
       "2      NaN  2015-01  British Transport Police  British Transport Police   \n",
       "\n",
       "   Longitude  Latitude                    Location  LSOA code  LSOA name  \\\n",
       "0  -0.271604   50.8344  On or near Shoreham-By-Sea  E01031365  Adur 002D   \n",
       "1  -0.271604   50.8344  On or near Shoreham-By-Sea  E01031365  Adur 002D   \n",
       "2  -0.271604   50.8344  On or near Shoreham-By-Sea  E01031365  Adur 002D   \n",
       "\n",
       "              Crime type Last outcome category  Context  \n",
       "0            Other theft                   NaN      NaN  \n",
       "1            Other theft                   NaN      NaN  \n",
       "2  Theft from the person                   NaN      NaN  "
      ]
     },
     "execution_count": 19,
     "metadata": {},
     "output_type": "execute_result"
    }
   ],
   "source": [
    "all_birmingham = pd.read_csv('all_birmingham.csv')\n",
    "\n",
    "all_birmingham.head(3)"
   ]
  },
  {
   "cell_type": "markdown",
   "metadata": {},
   "source": [
    "# Step7 Taking a look at the column"
   ]
  },
  {
   "cell_type": "code",
   "execution_count": 20,
   "metadata": {},
   "outputs": [
    {
     "data": {
      "text/plain": [
       "Index(['Crime ID', 'Month', 'Reported by', 'Falls within', 'Longitude',\n",
       "       'Latitude', 'Location', 'LSOA code', 'LSOA name', 'Crime type',\n",
       "       'Last outcome category', 'Context'],\n",
       "      dtype='object')"
      ]
     },
     "execution_count": 20,
     "metadata": {},
     "output_type": "execute_result"
    }
   ],
   "source": [
    "all_birmingham.columns"
   ]
  },
  {
   "cell_type": "markdown",
   "metadata": {},
   "source": [
    "# Step 8 Get rid of the useless column"
   ]
  },
  {
   "cell_type": "code",
   "execution_count": 21,
   "metadata": {},
   "outputs": [],
   "source": [
    "del  all_birmingham['Crime ID']\n",
    "del  all_birmingham['Reported by']\n",
    "del  all_birmingham['Context']\n",
    "del  all_birmingham['Falls within']"
   ]
  },
  {
   "cell_type": "code",
   "execution_count": 22,
   "metadata": {},
   "outputs": [
    {
     "data": {
      "text/plain": [
       "Index(['Month', 'Longitude', 'Latitude', 'Location', 'LSOA code', 'LSOA name',\n",
       "       'Crime type', 'Last outcome category'],\n",
       "      dtype='object')"
      ]
     },
     "execution_count": 22,
     "metadata": {},
     "output_type": "execute_result"
    }
   ],
   "source": [
    "all_birmingham.columns"
   ]
  },
  {
   "cell_type": "code",
   "execution_count": 23,
   "metadata": {},
   "outputs": [
    {
     "data": {
      "text/plain": [
       "(1601661, 8)"
      ]
     },
     "execution_count": 23,
     "metadata": {},
     "output_type": "execute_result"
    }
   ],
   "source": [
    "all_birmingham.shape"
   ]
  },
  {
   "cell_type": "markdown",
   "metadata": {},
   "source": [
    "# Step 11 Data cleaning renaming month to date"
   ]
  },
  {
   "cell_type": "code",
   "execution_count": 24,
   "metadata": {},
   "outputs": [
    {
     "data": {
      "text/html": [
       "<div>\n",
       "<style scoped>\n",
       "    .dataframe tbody tr th:only-of-type {\n",
       "        vertical-align: middle;\n",
       "    }\n",
       "\n",
       "    .dataframe tbody tr th {\n",
       "        vertical-align: top;\n",
       "    }\n",
       "\n",
       "    .dataframe thead th {\n",
       "        text-align: right;\n",
       "    }\n",
       "</style>\n",
       "<table border=\"1\" class=\"dataframe\">\n",
       "  <thead>\n",
       "    <tr style=\"text-align: right;\">\n",
       "      <th></th>\n",
       "      <th>Month</th>\n",
       "      <th>Longitude</th>\n",
       "      <th>Latitude</th>\n",
       "      <th>Location</th>\n",
       "      <th>LSOA code</th>\n",
       "      <th>LSOA name</th>\n",
       "      <th>Crime type</th>\n",
       "      <th>Last outcome category</th>\n",
       "    </tr>\n",
       "  </thead>\n",
       "  <tbody>\n",
       "    <tr>\n",
       "      <th>0</th>\n",
       "      <td>2015-01</td>\n",
       "      <td>-0.271604</td>\n",
       "      <td>50.8344</td>\n",
       "      <td>On or near Shoreham-By-Sea</td>\n",
       "      <td>E01031365</td>\n",
       "      <td>Adur 002D</td>\n",
       "      <td>Other theft</td>\n",
       "      <td>NaN</td>\n",
       "    </tr>\n",
       "    <tr>\n",
       "      <th>1</th>\n",
       "      <td>2015-01</td>\n",
       "      <td>-0.271604</td>\n",
       "      <td>50.8344</td>\n",
       "      <td>On or near Shoreham-By-Sea</td>\n",
       "      <td>E01031365</td>\n",
       "      <td>Adur 002D</td>\n",
       "      <td>Other theft</td>\n",
       "      <td>NaN</td>\n",
       "    </tr>\n",
       "  </tbody>\n",
       "</table>\n",
       "</div>"
      ],
      "text/plain": [
       "     Month  Longitude  Latitude                    Location  LSOA code  \\\n",
       "0  2015-01  -0.271604   50.8344  On or near Shoreham-By-Sea  E01031365   \n",
       "1  2015-01  -0.271604   50.8344  On or near Shoreham-By-Sea  E01031365   \n",
       "\n",
       "   LSOA name   Crime type Last outcome category  \n",
       "0  Adur 002D  Other theft                   NaN  \n",
       "1  Adur 002D  Other theft                   NaN  "
      ]
     },
     "execution_count": 24,
     "metadata": {},
     "output_type": "execute_result"
    }
   ],
   "source": [
    "all_birmingham.head(2)"
   ]
  },
  {
   "cell_type": "markdown",
   "metadata": {},
   "source": [
    "# Renamme column monthly to date"
   ]
  },
  {
   "cell_type": "code",
   "execution_count": 25,
   "metadata": {},
   "outputs": [
    {
     "data": {
      "text/html": [
       "<div>\n",
       "<style scoped>\n",
       "    .dataframe tbody tr th:only-of-type {\n",
       "        vertical-align: middle;\n",
       "    }\n",
       "\n",
       "    .dataframe tbody tr th {\n",
       "        vertical-align: top;\n",
       "    }\n",
       "\n",
       "    .dataframe thead th {\n",
       "        text-align: right;\n",
       "    }\n",
       "</style>\n",
       "<table border=\"1\" class=\"dataframe\">\n",
       "  <thead>\n",
       "    <tr style=\"text-align: right;\">\n",
       "      <th></th>\n",
       "      <th>Date</th>\n",
       "      <th>Longitude</th>\n",
       "      <th>Latitude</th>\n",
       "      <th>Location</th>\n",
       "      <th>LSOA code</th>\n",
       "      <th>LSOA name</th>\n",
       "      <th>Crime type</th>\n",
       "      <th>Last outcome category</th>\n",
       "    </tr>\n",
       "  </thead>\n",
       "  <tbody>\n",
       "    <tr>\n",
       "      <th>0</th>\n",
       "      <td>2015-01</td>\n",
       "      <td>-0.271604</td>\n",
       "      <td>50.834400</td>\n",
       "      <td>On or near Shoreham-By-Sea</td>\n",
       "      <td>E01031365</td>\n",
       "      <td>Adur 002D</td>\n",
       "      <td>Other theft</td>\n",
       "      <td>NaN</td>\n",
       "    </tr>\n",
       "    <tr>\n",
       "      <th>1</th>\n",
       "      <td>2015-01</td>\n",
       "      <td>-0.271604</td>\n",
       "      <td>50.834400</td>\n",
       "      <td>On or near Shoreham-By-Sea</td>\n",
       "      <td>E01031365</td>\n",
       "      <td>Adur 002D</td>\n",
       "      <td>Other theft</td>\n",
       "      <td>NaN</td>\n",
       "    </tr>\n",
       "    <tr>\n",
       "      <th>2</th>\n",
       "      <td>2015-01</td>\n",
       "      <td>-0.271604</td>\n",
       "      <td>50.834400</td>\n",
       "      <td>On or near Shoreham-By-Sea</td>\n",
       "      <td>E01031365</td>\n",
       "      <td>Adur 002D</td>\n",
       "      <td>Theft from the person</td>\n",
       "      <td>NaN</td>\n",
       "    </tr>\n",
       "    <tr>\n",
       "      <th>3</th>\n",
       "      <td>2015-01</td>\n",
       "      <td>-0.271604</td>\n",
       "      <td>50.834400</td>\n",
       "      <td>On or near Shoreham-By-Sea</td>\n",
       "      <td>E01031365</td>\n",
       "      <td>Adur 002D</td>\n",
       "      <td>Vehicle crime</td>\n",
       "      <td>NaN</td>\n",
       "    </tr>\n",
       "    <tr>\n",
       "      <th>4</th>\n",
       "      <td>2015-01</td>\n",
       "      <td>-0.323543</td>\n",
       "      <td>50.827200</td>\n",
       "      <td>On or near Lancing</td>\n",
       "      <td>E01031342</td>\n",
       "      <td>Adur 008B</td>\n",
       "      <td>Public order</td>\n",
       "      <td>NaN</td>\n",
       "    </tr>\n",
       "    <tr>\n",
       "      <th>...</th>\n",
       "      <td>...</td>\n",
       "      <td>...</td>\n",
       "      <td>...</td>\n",
       "      <td>...</td>\n",
       "      <td>...</td>\n",
       "      <td>...</td>\n",
       "      <td>...</td>\n",
       "      <td>...</td>\n",
       "    </tr>\n",
       "    <tr>\n",
       "      <th>1601656</th>\n",
       "      <td>2019-12</td>\n",
       "      <td>-2.120034</td>\n",
       "      <td>52.577954</td>\n",
       "      <td>On or near All Saints Road</td>\n",
       "      <td>E01010530</td>\n",
       "      <td>Wolverhampton 035H</td>\n",
       "      <td>Violence and sexual offences</td>\n",
       "      <td>Unable to prosecute suspect</td>\n",
       "    </tr>\n",
       "    <tr>\n",
       "      <th>1601657</th>\n",
       "      <td>2019-12</td>\n",
       "      <td>-2.120714</td>\n",
       "      <td>52.583904</td>\n",
       "      <td>On or near Pedestrian Subway</td>\n",
       "      <td>E01010530</td>\n",
       "      <td>Wolverhampton 035H</td>\n",
       "      <td>Violence and sexual offences</td>\n",
       "      <td>Awaiting court outcome</td>\n",
       "    </tr>\n",
       "    <tr>\n",
       "      <th>1601658</th>\n",
       "      <td>2019-12</td>\n",
       "      <td>-2.120286</td>\n",
       "      <td>52.578475</td>\n",
       "      <td>On or near Maxwell Road</td>\n",
       "      <td>E01010530</td>\n",
       "      <td>Wolverhampton 035H</td>\n",
       "      <td>Violence and sexual offences</td>\n",
       "      <td>Investigation complete; no suspect identified</td>\n",
       "    </tr>\n",
       "    <tr>\n",
       "      <th>1601659</th>\n",
       "      <td>2019-12</td>\n",
       "      <td>-2.116401</td>\n",
       "      <td>52.582677</td>\n",
       "      <td>On or near York Street</td>\n",
       "      <td>E01010530</td>\n",
       "      <td>Wolverhampton 035H</td>\n",
       "      <td>Violence and sexual offences</td>\n",
       "      <td>Unable to prosecute suspect</td>\n",
       "    </tr>\n",
       "    <tr>\n",
       "      <th>1601660</th>\n",
       "      <td>2019-12</td>\n",
       "      <td>-7.547692</td>\n",
       "      <td>54.517074</td>\n",
       "      <td>On or near</td>\n",
       "      <td>NaN</td>\n",
       "      <td>NaN</td>\n",
       "      <td>Criminal damage and arson</td>\n",
       "      <td>Investigation complete; no suspect identified</td>\n",
       "    </tr>\n",
       "  </tbody>\n",
       "</table>\n",
       "<p>1601661 rows × 8 columns</p>\n",
       "</div>"
      ],
      "text/plain": [
       "            Date  Longitude   Latitude                      Location  \\\n",
       "0        2015-01  -0.271604  50.834400    On or near Shoreham-By-Sea   \n",
       "1        2015-01  -0.271604  50.834400    On or near Shoreham-By-Sea   \n",
       "2        2015-01  -0.271604  50.834400    On or near Shoreham-By-Sea   \n",
       "3        2015-01  -0.271604  50.834400    On or near Shoreham-By-Sea   \n",
       "4        2015-01  -0.323543  50.827200            On or near Lancing   \n",
       "...          ...        ...        ...                           ...   \n",
       "1601656  2019-12  -2.120034  52.577954    On or near All Saints Road   \n",
       "1601657  2019-12  -2.120714  52.583904  On or near Pedestrian Subway   \n",
       "1601658  2019-12  -2.120286  52.578475       On or near Maxwell Road   \n",
       "1601659  2019-12  -2.116401  52.582677        On or near York Street   \n",
       "1601660  2019-12  -7.547692  54.517074                   On or near    \n",
       "\n",
       "         LSOA code           LSOA name                    Crime type  \\\n",
       "0        E01031365           Adur 002D                   Other theft   \n",
       "1        E01031365           Adur 002D                   Other theft   \n",
       "2        E01031365           Adur 002D         Theft from the person   \n",
       "3        E01031365           Adur 002D                 Vehicle crime   \n",
       "4        E01031342           Adur 008B                  Public order   \n",
       "...            ...                 ...                           ...   \n",
       "1601656  E01010530  Wolverhampton 035H  Violence and sexual offences   \n",
       "1601657  E01010530  Wolverhampton 035H  Violence and sexual offences   \n",
       "1601658  E01010530  Wolverhampton 035H  Violence and sexual offences   \n",
       "1601659  E01010530  Wolverhampton 035H  Violence and sexual offences   \n",
       "1601660        NaN                 NaN     Criminal damage and arson   \n",
       "\n",
       "                                 Last outcome category  \n",
       "0                                                  NaN  \n",
       "1                                                  NaN  \n",
       "2                                                  NaN  \n",
       "3                                                  NaN  \n",
       "4                                                  NaN  \n",
       "...                                                ...  \n",
       "1601656                    Unable to prosecute suspect  \n",
       "1601657                         Awaiting court outcome  \n",
       "1601658  Investigation complete; no suspect identified  \n",
       "1601659                    Unable to prosecute suspect  \n",
       "1601660  Investigation complete; no suspect identified  \n",
       "\n",
       "[1601661 rows x 8 columns]"
      ]
     },
     "execution_count": 25,
     "metadata": {},
     "output_type": "execute_result"
    }
   ],
   "source": [
    "all_birmingham = all_birmingham.rename(columns = {'Month':'Date'})\n",
    "all_birmingham"
   ]
  },
  {
   "cell_type": "markdown",
   "metadata": {},
   "source": [
    "# Step 12 I think it is time to split the data"
   ]
  },
  {
   "cell_type": "code",
   "execution_count": 26,
   "metadata": {},
   "outputs": [
    {
     "data": {
      "text/html": [
       "<div>\n",
       "<style scoped>\n",
       "    .dataframe tbody tr th:only-of-type {\n",
       "        vertical-align: middle;\n",
       "    }\n",
       "\n",
       "    .dataframe tbody tr th {\n",
       "        vertical-align: top;\n",
       "    }\n",
       "\n",
       "    .dataframe thead th {\n",
       "        text-align: right;\n",
       "    }\n",
       "</style>\n",
       "<table border=\"1\" class=\"dataframe\">\n",
       "  <thead>\n",
       "    <tr style=\"text-align: right;\">\n",
       "      <th></th>\n",
       "      <th>Date</th>\n",
       "      <th>Longitude</th>\n",
       "      <th>Latitude</th>\n",
       "      <th>Location</th>\n",
       "      <th>LSOA code</th>\n",
       "      <th>LSOA name</th>\n",
       "      <th>Crime type</th>\n",
       "      <th>Last outcome category</th>\n",
       "      <th>Years</th>\n",
       "      <th>Months</th>\n",
       "    </tr>\n",
       "  </thead>\n",
       "  <tbody>\n",
       "    <tr>\n",
       "      <th>0</th>\n",
       "      <td>2015-01</td>\n",
       "      <td>-0.271604</td>\n",
       "      <td>50.8344</td>\n",
       "      <td>On or near Shoreham-By-Sea</td>\n",
       "      <td>E01031365</td>\n",
       "      <td>Adur 002D</td>\n",
       "      <td>Other theft</td>\n",
       "      <td>NaN</td>\n",
       "      <td>2015</td>\n",
       "      <td>01</td>\n",
       "    </tr>\n",
       "    <tr>\n",
       "      <th>1</th>\n",
       "      <td>2015-01</td>\n",
       "      <td>-0.271604</td>\n",
       "      <td>50.8344</td>\n",
       "      <td>On or near Shoreham-By-Sea</td>\n",
       "      <td>E01031365</td>\n",
       "      <td>Adur 002D</td>\n",
       "      <td>Other theft</td>\n",
       "      <td>NaN</td>\n",
       "      <td>2015</td>\n",
       "      <td>01</td>\n",
       "    </tr>\n",
       "  </tbody>\n",
       "</table>\n",
       "</div>"
      ],
      "text/plain": [
       "      Date  Longitude  Latitude                    Location  LSOA code  \\\n",
       "0  2015-01  -0.271604   50.8344  On or near Shoreham-By-Sea  E01031365   \n",
       "1  2015-01  -0.271604   50.8344  On or near Shoreham-By-Sea  E01031365   \n",
       "\n",
       "   LSOA name   Crime type Last outcome category Years Months  \n",
       "0  Adur 002D  Other theft                   NaN  2015     01  \n",
       "1  Adur 002D  Other theft                   NaN  2015     01  "
      ]
     },
     "execution_count": 26,
     "metadata": {},
     "output_type": "execute_result"
    }
   ],
   "source": [
    "all_birmingham[['Years', 'Months']] = all_birmingham['Date'].str.split('-', expand = True)\n",
    "all_birmingham.head(2)"
   ]
  },
  {
   "cell_type": "markdown",
   "metadata": {},
   "source": [
    "# Step 13 Checking if the date column is a pandas recognize datetime64 Format, If it is in object, then we need to change the \n",
    "Datetime"
   ]
  },
  {
   "cell_type": "code",
   "execution_count": 31,
   "metadata": {},
   "outputs": [
    {
     "data": {
      "text/plain": [
       "Date                      object\n",
       "Longitude                float64\n",
       "Latitude                 float64\n",
       "Location                  object\n",
       "LSOA code                 object\n",
       "LSOA name                 object\n",
       "Crime type                object\n",
       "Last outcome category     object\n",
       "Years                     object\n",
       "Months                    object\n",
       "dtype: object"
      ]
     },
     "execution_count": 31,
     "metadata": {},
     "output_type": "execute_result"
    }
   ],
   "source": [
    "all_birmingham['Date'].dtype\n",
    "\n",
    "all_birmingham.dtypes"
   ]
  },
  {
   "cell_type": "code",
   "execution_count": 34,
   "metadata": {},
   "outputs": [
    {
     "data": {
      "text/plain": [
       "Date                     datetime64[ns]\n",
       "Longitude                       float64\n",
       "Latitude                        float64\n",
       "Location                         object\n",
       "LSOA code                        object\n",
       "LSOA name                        object\n",
       "Crime type                       object\n",
       "Last outcome category            object\n",
       "Years                            object\n",
       "Months                           object\n",
       "dtype: object"
      ]
     },
     "execution_count": 34,
     "metadata": {},
     "output_type": "execute_result"
    }
   ],
   "source": [
    "all_birmingham.Date = pd.to_datetime(all_birmingham.Date)\n",
    "all_birmingham.dtypes"
   ]
  },
  {
   "cell_type": "markdown",
   "metadata": {},
   "source": [
    "# Step 15 Lets create a new column called quarters  from birmingham  dataframe using pandas.dt.quarters\n"
   ]
  },
  {
   "cell_type": "code",
   "execution_count": 35,
   "metadata": {},
   "outputs": [],
   "source": [
    "all_birmingham['Years'] = all_birmingham['Date'].dt.year\n",
    "all_birmingham['Months'] = all_birmingham['Date'].dt.month"
   ]
  },
  {
   "cell_type": "code",
   "execution_count": 36,
   "metadata": {},
   "outputs": [],
   "source": [
    "all_birmingham['Qtrs'] = all_birmingham['Date'].dt.quarter"
   ]
  },
  {
   "cell_type": "code",
   "execution_count": 37,
   "metadata": {},
   "outputs": [
    {
     "data": {
      "text/plain": [
       "Date                     datetime64[ns]\n",
       "Longitude                       float64\n",
       "Latitude                        float64\n",
       "Location                         object\n",
       "LSOA code                        object\n",
       "LSOA name                        object\n",
       "Crime type                       object\n",
       "Last outcome category            object\n",
       "Years                             int64\n",
       "Months                            int64\n",
       "Qtrs                              int64\n",
       "dtype: object"
      ]
     },
     "execution_count": 37,
     "metadata": {},
     "output_type": "execute_result"
    }
   ],
   "source": [
    "all_birmingham.dtypes"
   ]
  },
  {
   "cell_type": "markdown",
   "metadata": {},
   "source": [
    "# Step 16 - Check cols again for any changes we did above"
   ]
  },
  {
   "cell_type": "code",
   "execution_count": 38,
   "metadata": {},
   "outputs": [
    {
     "data": {
      "text/plain": [
       "Index(['Date', 'Longitude', 'Latitude', 'Location', 'LSOA code', 'LSOA name',\n",
       "       'Crime type', 'Last outcome category', 'Years', 'Months', 'Qtrs'],\n",
       "      dtype='object')"
      ]
     },
     "execution_count": 38,
     "metadata": {},
     "output_type": "execute_result"
    }
   ],
   "source": [
    "all_birmingham.columns"
   ]
  },
  {
   "cell_type": "markdown",
   "metadata": {},
   "source": [
    "# Step 17 How many unique Quarters do we have inside the qtrs columns"
   ]
  },
  {
   "cell_type": "code",
   "execution_count": 39,
   "metadata": {},
   "outputs": [
    {
     "data": {
      "text/plain": [
       "array([1, 2, 3, 4], dtype=int64)"
      ]
     },
     "execution_count": 39,
     "metadata": {},
     "output_type": "execute_result"
    }
   ],
   "source": [
    "all_birmingham['Qtrs'].unique()"
   ]
  },
  {
   "cell_type": "markdown",
   "metadata": {},
   "source": [
    "# Step 18 Working on selected birmingham data frame now"
   ]
  },
  {
   "cell_type": "code",
   "execution_count": 41,
   "metadata": {},
   "outputs": [
    {
     "data": {
      "text/html": [
       "<div>\n",
       "<style scoped>\n",
       "    .dataframe tbody tr th:only-of-type {\n",
       "        vertical-align: middle;\n",
       "    }\n",
       "\n",
       "    .dataframe tbody tr th {\n",
       "        vertical-align: top;\n",
       "    }\n",
       "\n",
       "    .dataframe thead th {\n",
       "        text-align: right;\n",
       "    }\n",
       "</style>\n",
       "<table border=\"1\" class=\"dataframe\">\n",
       "  <thead>\n",
       "    <tr style=\"text-align: right;\">\n",
       "      <th></th>\n",
       "      <th>LSOA code</th>\n",
       "      <th>LSOA name</th>\n",
       "      <th>Qtrs</th>\n",
       "    </tr>\n",
       "  </thead>\n",
       "  <tbody>\n",
       "    <tr>\n",
       "      <th>0</th>\n",
       "      <td>E01031365</td>\n",
       "      <td>Adur 002D</td>\n",
       "      <td>1</td>\n",
       "    </tr>\n",
       "    <tr>\n",
       "      <th>1</th>\n",
       "      <td>E01031365</td>\n",
       "      <td>Adur 002D</td>\n",
       "      <td>1</td>\n",
       "    </tr>\n",
       "    <tr>\n",
       "      <th>2</th>\n",
       "      <td>E01031365</td>\n",
       "      <td>Adur 002D</td>\n",
       "      <td>1</td>\n",
       "    </tr>\n",
       "    <tr>\n",
       "      <th>3</th>\n",
       "      <td>E01031365</td>\n",
       "      <td>Adur 002D</td>\n",
       "      <td>1</td>\n",
       "    </tr>\n",
       "    <tr>\n",
       "      <th>4</th>\n",
       "      <td>E01031342</td>\n",
       "      <td>Adur 008B</td>\n",
       "      <td>1</td>\n",
       "    </tr>\n",
       "  </tbody>\n",
       "</table>\n",
       "</div>"
      ],
      "text/plain": [
       "   LSOA code  LSOA name  Qtrs\n",
       "0  E01031365  Adur 002D     1\n",
       "1  E01031365  Adur 002D     1\n",
       "2  E01031365  Adur 002D     1\n",
       "3  E01031365  Adur 002D     1\n",
       "4  E01031342  Adur 008B     1"
      ]
     },
     "execution_count": 41,
     "metadata": {},
     "output_type": "execute_result"
    }
   ],
   "source": [
    "selectedbirmingham = all_birmingham[['LSOA code', 'LSOA name', 'Qtrs']]\n",
    "selectedbirmingham.head()"
   ]
  },
  {
   "cell_type": "markdown",
   "metadata": {},
   "source": [
    "# Step 19 Check columns again for that domain of deprivation"
   ]
  },
  {
   "cell_type": "code",
   "execution_count": 42,
   "metadata": {},
   "outputs": [
    {
     "data": {
      "text/plain": [
       "Index(['LSOA code (2011)', 'LSOA name (2011)',\n",
       "       'Local Authority District code (2019)',\n",
       "       'Local Authority District name (2019)',\n",
       "       'Index of Multiple Deprivation (IMD) Rank (where 1 is most deprived)',\n",
       "       'Index of Multiple Deprivation (IMD) Decile (where 1 is most deprived 10% of LSOAs)',\n",
       "       'Income Rank (where 1 is most deprived)',\n",
       "       'Income Decile (where 1 is most deprived 10% of LSOAs)',\n",
       "       'Employment Rank (where 1 is most deprived)',\n",
       "       'Employment Decile (where 1 is most deprived 10% of LSOAs)',\n",
       "       'Education, Skills and Training Rank (where 1 is most deprived)',\n",
       "       'Education, Skills and Training Decile (where 1 is most deprived 10% of LSOAs)',\n",
       "       'Health Deprivation and Disability Rank (where 1 is most deprived)',\n",
       "       'Health Deprivation and Disability Decile (where 1 is most deprived 10% of LSOAs)',\n",
       "       'Crime Rank (where 1 is most deprived)',\n",
       "       'Crime Decile (where 1 is most deprived 10% of LSOAs)',\n",
       "       'Barriers to Housing and Services Rank (where 1 is most deprived)',\n",
       "       'Barriers to Housing and Services Decile (where 1 is most deprived 10% of LSOAs)',\n",
       "       'Living Environment Rank (where 1 is most deprived)',\n",
       "       'Living Environment Decile (where 1 is most deprived 10% of LSOAs)'],\n",
       "      dtype='object')"
      ]
     },
     "execution_count": 42,
     "metadata": {},
     "output_type": "execute_result"
    }
   ],
   "source": [
    "Domains_Of_Deprivation.columns"
   ]
  },
  {
   "cell_type": "markdown",
   "metadata": {},
   "source": [
    "# Step 20 Do i need to remove some columns that arent important  using del function\n",
    "Yes"
   ]
  },
  {
   "cell_type": "code",
   "execution_count": 43,
   "metadata": {},
   "outputs": [],
   "source": [
    "del Domains_Of_Deprivation['Local Authority District code (2019)']\n",
    "del Domains_Of_Deprivation['Local Authority District name (2019)']"
   ]
  },
  {
   "cell_type": "code",
   "execution_count": 44,
   "metadata": {},
   "outputs": [
    {
     "data": {
      "text/plain": [
       "Index(['LSOA code (2011)', 'LSOA name (2011)',\n",
       "       'Index of Multiple Deprivation (IMD) Rank (where 1 is most deprived)',\n",
       "       'Index of Multiple Deprivation (IMD) Decile (where 1 is most deprived 10% of LSOAs)',\n",
       "       'Income Rank (where 1 is most deprived)',\n",
       "       'Income Decile (where 1 is most deprived 10% of LSOAs)',\n",
       "       'Employment Rank (where 1 is most deprived)',\n",
       "       'Employment Decile (where 1 is most deprived 10% of LSOAs)',\n",
       "       'Education, Skills and Training Rank (where 1 is most deprived)',\n",
       "       'Education, Skills and Training Decile (where 1 is most deprived 10% of LSOAs)',\n",
       "       'Health Deprivation and Disability Rank (where 1 is most deprived)',\n",
       "       'Health Deprivation and Disability Decile (where 1 is most deprived 10% of LSOAs)',\n",
       "       'Crime Rank (where 1 is most deprived)',\n",
       "       'Crime Decile (where 1 is most deprived 10% of LSOAs)',\n",
       "       'Barriers to Housing and Services Rank (where 1 is most deprived)',\n",
       "       'Barriers to Housing and Services Decile (where 1 is most deprived 10% of LSOAs)',\n",
       "       'Living Environment Rank (where 1 is most deprived)',\n",
       "       'Living Environment Decile (where 1 is most deprived 10% of LSOAs)'],\n",
       "      dtype='object')"
      ]
     },
     "execution_count": 44,
     "metadata": {},
     "output_type": "execute_result"
    }
   ],
   "source": [
    "Domains_Of_Deprivation.columns"
   ]
  },
  {
   "cell_type": "markdown",
   "metadata": {},
   "source": [
    "# Step 22 Renaming the ccolumns LSOA to LSOA name & LSOA name(2011) to LSOA name"
   ]
  },
  {
   "cell_type": "code",
   "execution_count": 65,
   "metadata": {},
   "outputs": [
    {
     "data": {
      "text/plain": [
       "Index(['LSOA code (2011)', 'LSOA name (2011)',\n",
       "       'Index of Multiple Deprivation (IMD) Rank (where 1 is most deprived)',\n",
       "       'Index of Multiple Deprivation (IMD) Decile (where 1 is most deprived 10% of LSOAs)',\n",
       "       'Income Rank (where 1 is most deprived)',\n",
       "       'Income Decile (where 1 is most deprived 10% of LSOAs)',\n",
       "       'Employment Rank (where 1 is most deprived)',\n",
       "       'Employment Decile (where 1 is most deprived 10% of LSOAs)',\n",
       "       'Education, Skills and Training Rank (where 1 is most deprived)',\n",
       "       'Education, Skills and Training Decile (where 1 is most deprived 10% of LSOAs)',\n",
       "       'Health Deprivation and Disability Rank (where 1 is most deprived)',\n",
       "       'Health Deprivation and Disability Decile (where 1 is most deprived 10% of LSOAs)',\n",
       "       'Crime Rank (where 1 is most deprived)',\n",
       "       'Crime Decile (where 1 is most deprived 10% of LSOAs)',\n",
       "       'Barriers to Housing and Services Rank (where 1 is most deprived)',\n",
       "       'Barriers to Housing and Services Decile (where 1 is most deprived 10% of LSOAs)',\n",
       "       'Living Environment Rank (where 1 is most deprived)',\n",
       "       'Living Environment Decile (where 1 is most deprived 10% of LSOAs)'],\n",
       "      dtype='object')"
      ]
     },
     "execution_count": 65,
     "metadata": {},
     "output_type": "execute_result"
    }
   ],
   "source": [
    "Domains_Of_Deprivation.columns"
   ]
  },
  {
   "cell_type": "code",
   "execution_count": 66,
   "metadata": {},
   "outputs": [
    {
     "data": {
      "text/plain": [
       "Index(['Date', 'Longitude', 'Latitude', 'Location', 'LSOA code', 'LSOA name',\n",
       "       'Crime type', 'Last outcome category', 'Years', 'Months', 'Qtrs'],\n",
       "      dtype='object')"
      ]
     },
     "execution_count": 66,
     "metadata": {},
     "output_type": "execute_result"
    }
   ],
   "source": [
    "all_birmingham.columns"
   ]
  },
  {
   "cell_type": "code",
   "execution_count": 78,
   "metadata": {},
   "outputs": [],
   "source": [
    "Domain_Of_Deprivation =  Domains_Of_Deprivation.rename(columns = {'LSOA name (2011)' :  'LSOA name'})\n",
    "Domain_Of_Deprivation =  Domains_Of_Deprivation.rename(columns = {'LSOA code (2011)' : 'LSOA code'})"
   ]
  },
  {
   "cell_type": "code",
   "execution_count": null,
   "metadata": {},
   "outputs": [],
   "source": []
  },
  {
   "cell_type": "code",
   "execution_count": 79,
   "metadata": {},
   "outputs": [
    {
     "data": {
      "text/plain": [
       "Index(['LSOA code', 'LSOA name (2011)',\n",
       "       'Index of Multiple Deprivation (IMD) Rank (where 1 is most deprived)',\n",
       "       'Index of Multiple Deprivation (IMD) Decile (where 1 is most deprived 10% of LSOAs)',\n",
       "       'Income Rank (where 1 is most deprived)',\n",
       "       'Income Decile (where 1 is most deprived 10% of LSOAs)',\n",
       "       'Employment Rank (where 1 is most deprived)',\n",
       "       'Employment Decile (where 1 is most deprived 10% of LSOAs)',\n",
       "       'Education, Skills and Training Rank (where 1 is most deprived)',\n",
       "       'Education, Skills and Training Decile (where 1 is most deprived 10% of LSOAs)',\n",
       "       'Health Deprivation and Disability Rank (where 1 is most deprived)',\n",
       "       'Health Deprivation and Disability Decile (where 1 is most deprived 10% of LSOAs)',\n",
       "       'Crime Rank (where 1 is most deprived)',\n",
       "       'Crime Decile (where 1 is most deprived 10% of LSOAs)',\n",
       "       'Barriers to Housing and Services Rank (where 1 is most deprived)',\n",
       "       'Barriers to Housing and Services Decile (where 1 is most deprived 10% of LSOAs)',\n",
       "       'Living Environment Rank (where 1 is most deprived)',\n",
       "       'Living Environment Decile (where 1 is most deprived 10% of LSOAs)'],\n",
       "      dtype='object')"
      ]
     },
     "execution_count": 79,
     "metadata": {},
     "output_type": "execute_result"
    }
   ],
   "source": [
    "Domain_Of_Deprivation.columns #To confirm"
   ]
  },
  {
   "cell_type": "markdown",
   "metadata": {},
   "source": [
    "# Step 25 - unpivot using pandas melt function which is quite crucial\n",
    "\n",
    "Unpivot data - i need to manipulate  the social Deprivation table or Data frame by unpivooting the columns into rows"
   ]
  },
  {
   "cell_type": "markdown",
   "metadata": {},
   "source": [
    "Using pandas merge function which is equivalent to excel vlookup, i am looking for the share column between the unpivoted\n",
    "Domains_Of_Deprivation and selectbirmingham dataframe  and the following are the columns between them LSOA code and LSOA codde"
   ]
  }
 ],
 "metadata": {
  "kernelspec": {
   "display_name": "Python 3",
   "language": "python",
   "name": "python3"
  },
  "language_info": {
   "codemirror_mode": {
    "name": "ipython",
    "version": 3
   },
   "file_extension": ".py",
   "mimetype": "text/x-python",
   "name": "python",
   "nbconvert_exporter": "python",
   "pygments_lexer": "ipython3",
   "version": "3.8.3"
  }
 },
 "nbformat": 4,
 "nbformat_minor": 4
}
