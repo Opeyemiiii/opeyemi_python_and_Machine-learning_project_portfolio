{
  "nbformat": 4,
  "nbformat_minor": 0,
  "metadata": {
    "colab": {
      "provenance": [],
      "authorship_tag": "ABX9TyOQpahn1CuhskQI3/0RebIW",
      "include_colab_link": true
    },
    "kernelspec": {
      "name": "python3",
      "display_name": "Python 3"
    },
    "language_info": {
      "name": "python"
    }
  },
  "cells": [
    {
      "cell_type": "markdown",
      "metadata": {
        "id": "view-in-github",
        "colab_type": "text"
      },
      "source": [
        "<a href=\"https://colab.research.google.com/github/Opeyemiiii/opeyemi_python_and_Machine-learning_project_portfolio/blob/main/python_def_method_2.ipynb\" target=\"_parent\"><img src=\"https://colab.research.google.com/assets/colab-badge.svg\" alt=\"Open In Colab\"/></a>"
      ]
    },
    {
      "cell_type": "code",
      "execution_count": null,
      "metadata": {
        "id": "1DN0rs8napXj"
      },
      "outputs": [],
      "source": [
        "class Shirt:\n",
        "  def __init__(self, shirt_color, shirt_size, shirt_style, shirt_price):\n",
        "    self.color = shirt_color\n",
        "    self.size = shirt_size\n",
        "    self.style = shirt_style\n",
        "    self.price = shirt_price\n",
        "\n",
        "  def change_price(self, new_price):\n",
        "    self.price = new_price(10)\n",
        "\n",
        "new_shirt = Shirt('red', 3, 'short_sleeve', 23)"
      ]
    },
    {
      "cell_type": "code",
      "source": [],
      "metadata": {
        "id": "nXCG959XeL0L"
      },
      "execution_count": null,
      "outputs": []
    },
    {
      "cell_type": "code",
      "source": [
        "print(new_shirt.color)\n",
        "print(new_shirt.price*23)\n",
        "print(new_shirt.style)\n",
        "print(new_shirt.size)"
      ],
      "metadata": {
        "colab": {
          "base_uri": "https://localhost:8080/"
        },
        "id": "VcTumPyYel08",
        "outputId": "cce3908a-8568-4f55-af4d-60820442bfc4"
      },
      "execution_count": null,
      "outputs": [
        {
          "output_type": "stream",
          "name": "stdout",
          "text": [
            "red\n",
            "529\n",
            "short_sleeve\n",
            "3\n"
          ]
        }
      ]
    },
    {
      "cell_type": "code",
      "source": [
        "new_shirt.change_price(new_price = 10)\n",
        "print(new_shirt.price)\n",
        ""
      ],
      "metadata": {
        "colab": {
          "base_uri": "https://localhost:8080/"
        },
        "id": "o-tLQLvweu6V",
        "outputId": "6394675f-a962-4192-8b55-fcc701e8d699"
      },
      "execution_count": null,
      "outputs": [
        {
          "output_type": "stream",
          "name": "stdout",
          "text": [
            "10\n"
          ]
        }
      ]
    },
    {
      "cell_type": "code",
      "source": [
        "print(new_shirt.price)"
      ],
      "metadata": {
        "id": "wWvwfWLSkZQX",
        "colab": {
          "base_uri": "https://localhost:8080/"
        },
        "outputId": "10c94428-5d12-45dd-e23b-3e6109425454"
      },
      "execution_count": null,
      "outputs": [
        {
          "output_type": "stream",
          "name": "stdout",
          "text": [
            "10\n"
          ]
        }
      ]
    },
    {
      "cell_type": "code",
      "source": [
        "class car:\n",
        "  def __init__(self, camry, toyota, benz):\n",
        "    self.camry = camry\n",
        "    self.toyota = toyota\n",
        "    self.benz = benz\n",
        "\n",
        "  def discount(self, discount):\n",
        "    return self.toyota * (1 - discount)\n",
        "\n",
        "  def change_price(self, new_price):\n",
        "    self.benz = new_price\n",
        "\n",
        "  def discounted(self, discounted):\n",
        "    return self.benz * (1 - discounted)\n",
        "\n",
        "  def all_price(self):\n",
        "    print(self.camry, self.toyota, self.benz)\n"
      ],
      "metadata": {
        "id": "GFCj9VaXqdam"
      },
      "execution_count": null,
      "outputs": []
    },
    {
      "cell_type": "code",
      "source": [
        "price = car(20000, 30000, 50000)"
      ],
      "metadata": {
        "id": "8pOxWrdgC4Fg"
      },
      "execution_count": null,
      "outputs": []
    },
    {
      "cell_type": "code",
      "source": [
        "price.change_price(new_price = 55000)"
      ],
      "metadata": {
        "id": "ohTb31l5Q87C"
      },
      "execution_count": null,
      "outputs": []
    },
    {
      "cell_type": "code",
      "source": [
        "\n",
        "print(price.camry)\n",
        "print(price.discount(0.2))\n",
        "print(price.benz)\n",
        "print(price.discounted(0.3))\n",
        "print(price.all_price())\n"
      ],
      "metadata": {
        "colab": {
          "base_uri": "https://localhost:8080/"
        },
        "id": "8Dm5zmDvNKdF",
        "outputId": "a957ab28-d517-416f-a69e-23654e843999"
      },
      "execution_count": null,
      "outputs": [
        {
          "output_type": "stream",
          "name": "stdout",
          "text": [
            "20000\n",
            "24000.0\n",
            "55000\n",
            "38500.0\n",
            "20000 30000 55000\n",
            "None\n"
          ]
        }
      ]
    },
    {
      "cell_type": "code",
      "source": [],
      "metadata": {
        "id": "N0d_RBBMRiYG"
      },
      "execution_count": null,
      "outputs": []
    }
  ]
}